{
 "cells": [
  {
   "cell_type": "code",
   "execution_count": 148,
   "metadata": {},
   "outputs": [],
   "source": [
    "import numpy as np\n",
    "import pandas as pd\n",
    "import matplotlib.pyplot as plt"
   ]
  },
  {
   "cell_type": "code",
   "execution_count": 149,
   "metadata": {},
   "outputs": [],
   "source": [
    "df = pd.read_csv('ml2_train.csv')"
   ]
  },
  {
   "cell_type": "code",
   "execution_count": 150,
   "metadata": {
    "scrolled": true
   },
   "outputs": [
    {
     "data": {
      "text/html": [
       "<div>\n",
       "<style scoped>\n",
       "    .dataframe tbody tr th:only-of-type {\n",
       "        vertical-align: middle;\n",
       "    }\n",
       "\n",
       "    .dataframe tbody tr th {\n",
       "        vertical-align: top;\n",
       "    }\n",
       "\n",
       "    .dataframe thead th {\n",
       "        text-align: right;\n",
       "    }\n",
       "</style>\n",
       "<table border=\"1\" class=\"dataframe\">\n",
       "  <thead>\n",
       "    <tr style=\"text-align: right;\">\n",
       "      <th></th>\n",
       "      <th>Serial Number</th>\n",
       "      <th>Main Office</th>\n",
       "      <th>Branch Number</th>\n",
       "      <th>Established Date</th>\n",
       "      <th>Acquired Date</th>\n",
       "      <th>City</th>\n",
       "      <th>County</th>\n",
       "      <th>State</th>\n",
       "      <th>2010 Deposits</th>\n",
       "      <th>2011 Deposits</th>\n",
       "      <th>2012 Deposits</th>\n",
       "      <th>2013 Deposits</th>\n",
       "      <th>2014 Deposits</th>\n",
       "      <th>2015 Deposits</th>\n",
       "      <th>2016 Deposits</th>\n",
       "    </tr>\n",
       "  </thead>\n",
       "  <tbody>\n",
       "    <tr>\n",
       "      <th>0</th>\n",
       "      <td>1</td>\n",
       "      <td>0</td>\n",
       "      <td>2866</td>\n",
       "      <td>02/06/1910</td>\n",
       "      <td>11/13/2004</td>\n",
       "      <td>Wales</td>\n",
       "      <td>Waukesha</td>\n",
       "      <td>WI</td>\n",
       "      <td>21386.0</td>\n",
       "      <td>23981.0</td>\n",
       "      <td>24825.0</td>\n",
       "      <td>26908.0</td>\n",
       "      <td>30681.0</td>\n",
       "      <td>30680.0</td>\n",
       "      <td>37564</td>\n",
       "    </tr>\n",
       "    <tr>\n",
       "      <th>1</th>\n",
       "      <td>2</td>\n",
       "      <td>0</td>\n",
       "      <td>2867</td>\n",
       "      <td>02/28/1910</td>\n",
       "      <td>11/13/2004</td>\n",
       "      <td>Germantown</td>\n",
       "      <td>Washington</td>\n",
       "      <td>WI</td>\n",
       "      <td>55454.0</td>\n",
       "      <td>56564.0</td>\n",
       "      <td>64732.0</td>\n",
       "      <td>73523.0</td>\n",
       "      <td>81357.0</td>\n",
       "      <td>89270.0</td>\n",
       "      <td>106177</td>\n",
       "    </tr>\n",
       "    <tr>\n",
       "      <th>2</th>\n",
       "      <td>3</td>\n",
       "      <td>0</td>\n",
       "      <td>2868</td>\n",
       "      <td>05/06/1907</td>\n",
       "      <td>11/13/2004</td>\n",
       "      <td>Brookfield</td>\n",
       "      <td>Waukesha</td>\n",
       "      <td>WI</td>\n",
       "      <td>90882.0</td>\n",
       "      <td>104300.0</td>\n",
       "      <td>125038.0</td>\n",
       "      <td>125906.0</td>\n",
       "      <td>132501.0</td>\n",
       "      <td>137363.0</td>\n",
       "      <td>145054</td>\n",
       "    </tr>\n",
       "    <tr>\n",
       "      <th>3</th>\n",
       "      <td>4</td>\n",
       "      <td>0</td>\n",
       "      <td>2869</td>\n",
       "      <td>06/20/1936</td>\n",
       "      <td>11/13/2004</td>\n",
       "      <td>Pewaukee</td>\n",
       "      <td>Waukesha</td>\n",
       "      <td>WI</td>\n",
       "      <td>45674.0</td>\n",
       "      <td>49288.0</td>\n",
       "      <td>53251.0</td>\n",
       "      <td>70402.0</td>\n",
       "      <td>74742.0</td>\n",
       "      <td>73837.0</td>\n",
       "      <td>85996</td>\n",
       "    </tr>\n",
       "    <tr>\n",
       "      <th>4</th>\n",
       "      <td>5</td>\n",
       "      <td>0</td>\n",
       "      <td>2870</td>\n",
       "      <td>04/22/1963</td>\n",
       "      <td>11/13/2004</td>\n",
       "      <td>Waukesha</td>\n",
       "      <td>Waukesha</td>\n",
       "      <td>WI</td>\n",
       "      <td>64181.0</td>\n",
       "      <td>72217.0</td>\n",
       "      <td>69920.0</td>\n",
       "      <td>80703.0</td>\n",
       "      <td>75971.0</td>\n",
       "      <td>73225.0</td>\n",
       "      <td>81706</td>\n",
       "    </tr>\n",
       "  </tbody>\n",
       "</table>\n",
       "</div>"
      ],
      "text/plain": [
       "   Serial Number  Main Office  Branch Number Established Date Acquired Date  \\\n",
       "0              1            0           2866       02/06/1910    11/13/2004   \n",
       "1              2            0           2867       02/28/1910    11/13/2004   \n",
       "2              3            0           2868       05/06/1907    11/13/2004   \n",
       "3              4            0           2869       06/20/1936    11/13/2004   \n",
       "4              5            0           2870       04/22/1963    11/13/2004   \n",
       "\n",
       "         City      County State  2010 Deposits  2011 Deposits  2012 Deposits  \\\n",
       "0       Wales    Waukesha    WI        21386.0        23981.0        24825.0   \n",
       "1  Germantown  Washington    WI        55454.0        56564.0        64732.0   \n",
       "2  Brookfield    Waukesha    WI        90882.0       104300.0       125038.0   \n",
       "3    Pewaukee    Waukesha    WI        45674.0        49288.0        53251.0   \n",
       "4    Waukesha    Waukesha    WI        64181.0        72217.0        69920.0   \n",
       "\n",
       "   2013 Deposits  2014 Deposits  2015 Deposits  2016 Deposits  \n",
       "0        26908.0        30681.0        30680.0          37564  \n",
       "1        73523.0        81357.0        89270.0         106177  \n",
       "2       125906.0       132501.0       137363.0         145054  \n",
       "3        70402.0        74742.0        73837.0          85996  \n",
       "4        80703.0        75971.0        73225.0          81706  "
      ]
     },
     "execution_count": 150,
     "metadata": {},
     "output_type": "execute_result"
    }
   ],
   "source": [
    "df.head()"
   ]
  },
  {
   "cell_type": "code",
   "execution_count": 151,
   "metadata": {},
   "outputs": [
    {
     "name": "stdout",
     "output_type": "stream",
     "text": [
      "<class 'pandas.core.frame.DataFrame'>\n",
      "RangeIndex: 3772 entries, 0 to 3771\n",
      "Data columns (total 15 columns):\n",
      "Serial Number       3772 non-null int64\n",
      "Main Office         3772 non-null int64\n",
      "Branch Number       3772 non-null int64\n",
      "Established Date    3772 non-null object\n",
      "Acquired Date       2297 non-null object\n",
      "City                3772 non-null object\n",
      "County              3772 non-null object\n",
      "State               3772 non-null object\n",
      "2010 Deposits       3050 non-null float64\n",
      "2011 Deposits       3212 non-null float64\n",
      "2012 Deposits       3461 non-null float64\n",
      "2013 Deposits       3615 non-null float64\n",
      "2014 Deposits       3734 non-null float64\n",
      "2015 Deposits       3771 non-null float64\n",
      "2016 Deposits       3772 non-null int64\n",
      "dtypes: float64(6), int64(4), object(5)\n",
      "memory usage: 442.1+ KB\n"
     ]
    }
   ],
   "source": [
    "df.info()"
   ]
  },
  {
   "cell_type": "code",
   "execution_count": 152,
   "metadata": {},
   "outputs": [],
   "source": [
    "obj_col = ['State']\n",
    "df = pd.get_dummies(df, columns=obj_col)"
   ]
  },
  {
   "cell_type": "code",
   "execution_count": null,
   "metadata": {},
   "outputs": [],
   "source": []
  },
  {
   "cell_type": "code",
   "execution_count": 153,
   "metadata": {},
   "outputs": [],
   "source": [
    "df.drop(['Serial Number','Main Office','Branch Number','County','City','Established Date','Acquired Date'],axis=1,inplace=True)"
   ]
  },
  {
   "cell_type": "code",
   "execution_count": 154,
   "metadata": {},
   "outputs": [
    {
     "name": "stdout",
     "output_type": "stream",
     "text": [
      "<class 'pandas.core.frame.DataFrame'>\n",
      "RangeIndex: 3772 entries, 0 to 3771\n",
      "Data columns (total 32 columns):\n",
      "2010 Deposits    3050 non-null float64\n",
      "2011 Deposits    3212 non-null float64\n",
      "2012 Deposits    3461 non-null float64\n",
      "2013 Deposits    3615 non-null float64\n",
      "2014 Deposits    3734 non-null float64\n",
      "2015 Deposits    3771 non-null float64\n",
      "2016 Deposits    3772 non-null int64\n",
      "State_AZ         3772 non-null uint8\n",
      "State_CA         3772 non-null uint8\n",
      "State_CO         3772 non-null uint8\n",
      "State_CT         3772 non-null uint8\n",
      "State_DC         3772 non-null uint8\n",
      "State_FL         3772 non-null uint8\n",
      "State_GA         3772 non-null uint8\n",
      "State_ID         3772 non-null uint8\n",
      "State_IL         3772 non-null uint8\n",
      "State_IN         3772 non-null uint8\n",
      "State_KY         3772 non-null uint8\n",
      "State_LA         3772 non-null uint8\n",
      "State_MA         3772 non-null uint8\n",
      "State_MI         3772 non-null uint8\n",
      "State_NJ         3772 non-null uint8\n",
      "State_NV         3772 non-null uint8\n",
      "State_NY         3772 non-null uint8\n",
      "State_OH         3772 non-null uint8\n",
      "State_OK         3772 non-null uint8\n",
      "State_OR         3772 non-null uint8\n",
      "State_PA         3772 non-null uint8\n",
      "State_TX         3772 non-null uint8\n",
      "State_UT         3772 non-null uint8\n",
      "State_WA         3772 non-null uint8\n",
      "State_WI         3772 non-null uint8\n",
      "dtypes: float64(6), int64(1), uint8(25)\n",
      "memory usage: 298.4 KB\n"
     ]
    }
   ],
   "source": [
    "df.info()"
   ]
  },
  {
   "cell_type": "code",
   "execution_count": 155,
   "metadata": {},
   "outputs": [],
   "source": [
    "X=df.drop('2016 Deposits',axis=1)"
   ]
  },
  {
   "cell_type": "code",
   "execution_count": 156,
   "metadata": {},
   "outputs": [],
   "source": [
    "X=X.fillna(0)"
   ]
  },
  {
   "cell_type": "code",
   "execution_count": 157,
   "metadata": {},
   "outputs": [],
   "source": [
    "y= df['2016 Deposits']"
   ]
  },
  {
   "cell_type": "code",
   "execution_count": 168,
   "metadata": {},
   "outputs": [],
   "source": [
    "import xgboost as xgb\n",
    "from sklearn.model_selection import train_test_split"
   ]
  },
  {
   "cell_type": "code",
   "execution_count": 192,
   "metadata": {},
   "outputs": [],
   "source": [
    "datadm = xgb.DMatrix(data=X,label=y)\n",
    "X_train, X_test, y_train, y_test = train_test_split(X, y, test_size=0.2, random_state=123)\n",
    "xg_reg = xgb.XGBRegressor(objective ='reg:linear',colsample_bytree=0.3,\n",
    " learning_rate= 0.01,\n",
    " max_depth= 6,\n",
    " n_estimators= 99)"
   ]
  },
  {
   "cell_type": "code",
   "execution_count": 177,
   "metadata": {},
   "outputs": [],
   "source": [
    "from sklearn.model_selection import GridSearchCV"
   ]
  },
  {
   "cell_type": "code",
   "execution_count": 189,
   "metadata": {},
   "outputs": [
    {
     "data": {
      "text/plain": [
       "GridSearchCV(cv=None, error_score='raise',\n",
       "       estimator=XGBRegressor(base_score=0.5, booster='gbtree', colsample_bylevel=1,\n",
       "       colsample_bytree=1, eval_metric='mae', gamma=0, learning_rate=0.1,\n",
       "       max_delta_step=0, max_depth=3, min_child_weight=1, missing=None,\n",
       "       n_estimators=100, n_jobs=1, nthread=None, objective='reg:linear',\n",
       "       random_state=0, reg_alpha=0, reg_lambda=1, scale_pos_weight=1,\n",
       "       seed=None, silent=True, subsample=1),\n",
       "       fit_params=None, iid=True, n_jobs=1,\n",
       "       param_grid={'n_estimators': array([ 0,  1, ..., 98, 99]), 'max_depth': array([0, 1, 2, 3, 4, 5, 6, 7, 8, 9]), 'learning_rate': [0.01], 'colsample_bytree': array([0.1, 0.2, 0.3, 0.4])},\n",
       "       pre_dispatch='2*n_jobs', refit=True, return_train_score='warn',\n",
       "       scoring=None, verbose=0)"
      ]
     },
     "execution_count": 189,
     "metadata": {},
     "output_type": "execute_result"
    }
   ],
   "source": [
    "params={\n",
    "    'n_estimators':np.arange(0,100,1),\n",
    "    'max_depth':np.arange(0,10,1),\n",
    "    'learning_rate':[0.01],\n",
    "    'colsample_bytree':np.arange(0.1,0.5,0.1)\n",
    "}\n",
    "xg_reg = xgb.XGBRegressor(objective ='reg:linear',eval_metric='mae')\n",
    "gridser = GridSearchCV(xg_reg,params)\n",
    "gridser.fit(X,y)"
   ]
  },
  {
   "cell_type": "code",
   "execution_count": 190,
   "metadata": {},
   "outputs": [
    {
     "data": {
      "text/plain": [
       "{'colsample_bytree': 0.30000000000000004,\n",
       " 'learning_rate': 0.01,\n",
       " 'max_depth': 6,\n",
       " 'n_estimators': 99}"
      ]
     },
     "execution_count": 190,
     "metadata": {},
     "output_type": "execute_result"
    }
   ],
   "source": [
    "gridser.best_params_"
   ]
  },
  {
   "cell_type": "code",
   "execution_count": 191,
   "metadata": {},
   "outputs": [
    {
     "data": {
      "text/plain": [
       "0.3744979738518453"
      ]
     },
     "execution_count": 191,
     "metadata": {},
     "output_type": "execute_result"
    }
   ],
   "source": [
    "gridser.best_score_"
   ]
  },
  {
   "cell_type": "code",
   "execution_count": 193,
   "metadata": {},
   "outputs": [],
   "source": [
    "xg_reg.fit(X_train,y_train)\n",
    "preds = xg_reg.predict(X_test)"
   ]
  },
  {
   "cell_type": "code",
   "execution_count": 194,
   "metadata": {},
   "outputs": [
    {
     "data": {
      "text/plain": [
       "array([ 67085.234,  61294.117,  29965.107,  20716.014,  44374.668,\n",
       "        33027.   ,  26510.969,  44821.023,  26618.809,  26049.6  ,\n",
       "        65335.457,  72578.34 , 111235.53 ,  34645.87 ,  29965.107,\n",
       "        17611.525, 139518.84 ,  82174.29 , 130438.71 ,  38861.777,\n",
       "       133876.61 ,  21327.254, 107195.99 ,  29755.031,  40992.35 ,\n",
       "        80907.3  ,  80736.69 ,  23172.172, 139448.64 ,  47653.957,\n",
       "        20716.014,  95954.76 ,  39043.383,  21816.918,  31088.21 ,\n",
       "        37839.453,  61322.79 ,  49367.426,  43622.637,  33657.87 ,\n",
       "        33534.   ,  18712.432,  40995.92 ,  35998.445,  41559.633,\n",
       "        28701.979,  44591.54 ,  60183.77 ,  66365.836,  48933.33 ,\n",
       "        96552.22 ,  20716.014,  61833.47 ,  44480.34 ,  39532.527,\n",
       "        82774.64 ,  47530.152,  36598.79 , 129931.06 ,  92003.35 ,\n",
       "        21662.096,  39832.402,  62528.43 ,  21912.69 ,  39624.625,\n",
       "        32148.7  ,  55066.797,  46324.047,  33195.957,  83188.27 ,\n",
       "        79270.74 ,  39449.254, 182157.34 ,  27808.39 ,  65127.203,\n",
       "        64796.613,  75767.42 , 218290.77 ,  40247.1  ,  21464.834,\n",
       "        59593.316,  39043.383,  56041.793,  78192.37 ,  21316.363,\n",
       "        62828.33 ,  87909.19 ,  25898.105,  31901.023, 233344.3  ,\n",
       "        19979.729,  25312.668,  54554.17 ,  57523.332,  28101.633,\n",
       "        23740.174,  48034.184,  21316.363,  23306.19 ,  33159.516,\n",
       "        40896.168,  34347.35 ,  60596.223,  21957.824,  20716.014,\n",
       "        51785.05 ,  85434.055,  80725.8  ,  17972.412,  40380.01 ,\n",
       "        71907.55 ,  28005.6  ,  86667.875,  55911.812,  92387.01 ,\n",
       "        82255.16 ,  89709.9  , 263108.9  ,  21461.271,  45267.305,\n",
       "        27345.379, 128212.54 ,  24701.426,  35808.707, 136320.77 ,\n",
       "        27083.928,  27544.111,  37036.066, 141267.86 ,  57967.65 ,\n",
       "        38183.24 ,  27639.572,  64368.23 , 113022.695, 128986.19 ,\n",
       "        76588.695,  21816.918,  45773.48 ,  58311.742,  32815.73 ,\n",
       "        32133.654,  26821.28 ,  21461.271, 159782.97 ,  26284.941,\n",
       "        21912.69 , 146323.47 ,  62221.066,  81181.86 ,  22797.629,\n",
       "        59920.273,  67870.805,  96072.13 ,  23013.596,  61322.79 ,\n",
       "        21464.834,  85590.664, 206806.23 ,  75262.305, 128845.32 ,\n",
       "        27416.03 ,  21316.363,  38850.887,  49823.29 ,  82174.29 ,\n",
       "        87819.27 ,  20716.014,  23013.596, 126289.49 ,  23013.596,\n",
       "        42337.58 ,  30461.828,  21912.69 ,  68619.625,  29965.107,\n",
       "        26966.188,  78998.56 ,  20716.014,  45608.86 ,  46783.27 ,\n",
       "        57913.82 ,  31404.688, 184355.58 ,  80907.3  ,  21327.254,\n",
       "        17611.525, 191026.14 ,  43230.48 ,  88483.29 ,  20530.031,\n",
       "        25312.668,  21327.254,  40995.92 ,  20716.014,  61045.06 ,\n",
       "        45586.207,  33536.61 ,  47923.547,  29888.863,  20716.014,\n",
       "        24380.219,  50228.402,  36598.79 ,  39210.758,  25994.818,\n",
       "        21316.363,  85431.68 ,  37898.816,  63587.805,  23654.16 ,\n",
       "        50621.316,  33503.125,  84166.766,  73793.07 ,  55648.54 ,\n",
       "        39779.668,  21091.695,  17972.412,  77337.516,  67082.39 ,\n",
       "        68209.96 ,  65899.38 ,  25738.314,  21327.254,  40694.906,\n",
       "        21327.254, 107303.055,  70600.336,  61051.156,  40874.844,\n",
       "        19979.729,  22417.27 ,  21816.918, 128974.266, 150597.53 ,\n",
       "        39774.473,  28144.457,  21957.824,  27544.111, 158002.45 ,\n",
       "        41736.24 ,  25301.775,  19308.965, 133325.48 ,  65127.203,\n",
       "        46113.805,  29965.107,  27674.854,  30472.719,  21327.254,\n",
       "        35432.23 ,  22368.598,  26598.617,  42496.72 ,  28804.537,\n",
       "        76588.695,  72133.88 ,  20716.014,  36534.81 ,  21461.271,\n",
       "        23232.19 ,  22413.453, 162178.66 ,  22413.453,  36740.3  ,\n",
       "        39779.668,  37323.574,  36429.586, 161249.39 ,  39539.035,\n",
       "        63587.805,  78521.76 ,  54625.496,  35004.707, 130129.09 ,\n",
       "        29965.107,  87939.57 ,  42717.805,  29356.277,  57881.285,\n",
       "        66195.42 ,  20716.014,  30472.719, 161363.14 ,  55648.54 ,\n",
       "        58650.105,  62823.5  ,  24338.953,  40310.734,  21912.69 ,\n",
       "        21464.834,  43917.906,  68788.18 ,  41381.742,  20716.014,\n",
       "       115216.15 ,  45474.41 , 103989.05 ,  92978.34 ,  23654.16 ,\n",
       "        38754.227,  45327.188,  42717.805,  37846.04 ,  95946.15 ,\n",
       "        36504.223,  54148.41 ,  58763.168,  24557.477,  93586.37 ,\n",
       "       132383.77 ,  36598.79 ,  20716.014,  35178.156,  69989.1  ,\n",
       "        40256.457, 207555.05 ,  20716.014,  82917.   ,  22562.178,\n",
       "        73038.195,  40428.734,  85579.6  ,  41516.03 ,  27405.135,\n",
       "        21327.254,  21912.69 ,  20716.014,  63587.805,  63850.25 ,\n",
       "        68176.94 ,  37390.18 ,  31552.166,  33386.523,  79526.836,\n",
       "        25446.684,  70030.875,  37249.71 ,  38118.375,  40380.01 ,\n",
       "        39360.516,  44993.926,  23654.16 ,  22417.27 ,  49264.203,\n",
       "        78316.23 ,  20841.744,  29177.984,  27083.928,  80570.61 ,\n",
       "        38238.707,  37710.14 ,  85770.44 ,  87780.14 ,  72743.984,\n",
       "       177936.69 ,  86931.54 ,  24224.402,  35599.32 , 173168.53 ,\n",
       "        20716.014,  68188.22 ,  50351.688,  34284.965,  21316.363,\n",
       "        88825.64 ,  72569.555,  28506.941,  71808.84 ,  42055.16 ,\n",
       "        61051.156,  30303.781,  27639.572,  37085.188, 236804.62 ,\n",
       "       253521.16 ,  36324.145,  28129.018,  24546.584,  53942.59 ,\n",
       "        34326.36 , 135079.23 ,  40380.01 ,  29061.256,  21316.363,\n",
       "        73368.94 ,  95491.22 ,  88483.29 ,  23801.639,  57967.65 ,\n",
       "        54642.9  ,  52033.86 ,  33402.746,  52101.28 ,  53423.35 ,\n",
       "        24980.568,  39043.383,  53869.86 ,  74546.54 ,  55211.566,\n",
       "        40524.918,  68687.73 ,  23742.623,  30303.781,  41101.375,\n",
       "        82331.75 ,  34289.195,  32148.7  ,  27405.135,  37012.594,\n",
       "        53551.91 ,  90919.93 , 100966.18 ,  37358.887, 114837.14 ,\n",
       "       132113.53 , 209080.61 ,  25440.75 ,  26734.139,  23013.803,\n",
       "        56483.316,  63345.188,  26618.809,  90216.11 ,  39779.668,\n",
       "        38222.867,  24701.426,  37422.496, 149263.84 ,  42445.25 ,\n",
       "        33047.164,  23612.775,  20716.014,  29861.477,  26254.27 ,\n",
       "        47940.164,  30303.781,  30303.781,  27021.834,  80990.04 ,\n",
       "        36643.957,  19979.729,  21316.363,  22428.158,  41430.098,\n",
       "        68922.18 ,  26220.936,  23237.922,  70509.56 ,  21912.69 ,\n",
       "        29298.309,  70509.56 ,  25446.684,  23798.756,  23946.234,\n",
       "        84239.336,  95019.43 , 130438.71 ,  88430.516,  55906.508,\n",
       "        62221.066,  44210.504,  21316.363,  65433.336,  20716.014,\n",
       "        23013.803,  70048.69 ,  35693.434,  59482.773,  21912.69 ,\n",
       "        51066.785,  24546.584,  32525.12 , 130774.89 ,  20716.014,\n",
       "        25859.297,  44557.617,  35008.875,  40858.348,  20716.014,\n",
       "        58756.773,  36363.47 ,  39624.152,  41918.824,  68347.59 ,\n",
       "        43340.52 ,  89659.484,  32831.215,  68419.64 ,  98465.98 ,\n",
       "        28129.018,  27639.572, 121244.734,  75181.8  ,  80907.3  ,\n",
       "        28392.246,  20716.014,  31135.004,  44687.375,  35702.83 ,\n",
       "        61617.94 ,  21816.918,  24399.105, 300421.56 ,  52521.758,\n",
       "        49169.72 ,  77030.43 ,  22368.598,  48034.184,  19246.777,\n",
       "        36622.82 ,  46925.66 ,  30015.7  ,  29861.477,  39953.938,\n",
       "        55955.137,  42620.27 ,  56650.99 ,  62706.348,  26266.936,\n",
       "        20716.014,  42141.098,  78061.21 ,  58463.63 ,  20944.217,\n",
       "        42422.44 ,  34391.53 ,  40528.49 ,  24991.46 ,  74625.86 ,\n",
       "        97708.79 ,  76588.695,  65570.   ,  34896.207, 158179.67 ,\n",
       "        25902.121,  42398.766,  62832.316,  35463.38 ,  87943.13 ,\n",
       "       114297.96 ,  58827.74 ,  96209.72 , 108287.32 , 100012.63 ,\n",
       "        40390.914,  60919.4  ,  26220.936, 136430.42 ,  44090.074,\n",
       "       164773.   ,  21327.254,  67804.88 ,  21327.254,  24701.426,\n",
       "       133592.88 ,  20530.031,  17611.525,  37398.184,  21816.918,\n",
       "        39722.836,  24701.426, 111864.91 ,  17611.525,  44997.617,\n",
       "        23172.172,  64146.445,  40528.49 ,  23024.693,  29675.496,\n",
       "        34896.207,  21464.834,  30474.3  ,  70205.81 , 480356.88 ,\n",
       "        37878.402,  21316.363,  20716.014,  36743.695,  65755.04 ,\n",
       "        60054.203,  78747.38 ,  46935.297, 129377.4  ,  21816.918,\n",
       "       107151.8  ,  69884.62 ,  78623.22 ,  65121.17 ,  81888.09 ,\n",
       "        72437.85 ,  21912.69 ,  85104.77 ,  79472.38 ,  24546.584,\n",
       "        55216.74 ,  77762.805,  40992.35 ,  23654.16 ,  34885.32 ,\n",
       "        29877.973,  79219.54 ,  26804.791,  47257.453,  21461.271,\n",
       "        42836.07 ,  36456.793,  38962.973,  21316.363,  71421.23 ,\n",
       "        20716.014,  33121.32 ,  24224.402,  54775.53 , 259714.02 ,\n",
       "        61484.773,  36068.297, 189687.5  ,  81172.2  ,  73845.1  ,\n",
       "        30262.607,  43633.285,  32616.414, 116875.01 , 121492.27 ,\n",
       "        70004.766,  94941.49 ,  89828.99 ,  30472.719,  52281.594,\n",
       "        23471.713,  37710.14 ,  40528.49 ,  86215.6  ,  25312.668,\n",
       "        28850.453, 193216.2  , 101226.75 ,  69272.2  ,  32056.676,\n",
       "       186398.72 ,  62969.895,  56483.242,  41327.51 , 534875.25 ,\n",
       "        23172.172, 134937.58 ,  23013.803,  29965.107,  56151.355,\n",
       "        39195.246,  21461.271,  26920.342,  51617.223,  39510.816,\n",
       "        21957.824,  21316.363,  29675.496,  68607.17 ,  19979.729,\n",
       "        26266.936,  39043.383,  82025.62 ,  67870.805,  61639.4  ,\n",
       "        64957.066,  87819.27 ,  55887.164,  37710.14 ,  28701.979,\n",
       "        67387.83 ,  40528.49 ,  98452.086,  40992.35 ,  21778.418,\n",
       "        66392.12 ,  20716.014,  85976.11 ,  52504.82 ,  41913.47 ,\n",
       "        44656.062,  36534.81 ,  39285.56 ,  52313.273,  17611.525,\n",
       "        37431.18 ,  92003.35 ,  32634.809,  39449.254,  55911.812,\n",
       "       160058.05 ,  63009.48 ,  54219.332,  26821.28 ,  28465.781,\n",
       "        90314.29 ,  41381.742,  69884.62 ,  63609.824,  67870.805,\n",
       "        42019.926,  25870.19 ,  57402.605,  38587.258,  59716.22 ,\n",
       "        25738.314,  21464.834,  44609.13 , 140651.03 ,  70283.305,\n",
       "        37036.066,  27405.135, 144524.05 ,  87169.41 , 129327.35 ,\n",
       "        41381.742,  35319.043,  42631.176,  92003.35 ,  81170.98 ,\n",
       "       206806.23 ,  36673.746,  76588.695,  39232.06 ,  28081.648,\n",
       "        49570.344,  37546.133,  61484.773,  23673.965,  38067.215,\n",
       "        26960.256,  34645.87 ,  44518.246,  35096.188,  23309.752,\n",
       "        20530.031, 119363.5  ,  82774.64 ,  28773.957,  68176.94 ,\n",
       "        41802.434,  26660.838,  40463.895,  65704.01 ,  35586.043,\n",
       "       122400.57 , 164972.92 ,  92735.97 ,  38175.78 ,  28392.246,\n",
       "        39953.938,  81398.95 ,  54848.656, 132383.77 ,  30338.275],\n",
       "      dtype=float32)"
      ]
     },
     "execution_count": 194,
     "metadata": {},
     "output_type": "execute_result"
    }
   ],
   "source": [
    "preds"
   ]
  },
  {
   "cell_type": "code",
   "execution_count": 195,
   "metadata": {},
   "outputs": [
    {
     "data": {
      "text/plain": [
       "967      83931\n",
       "537      84912\n",
       "3220     55516\n",
       "3113     20466\n",
       "1001     61519\n",
       "43       37419\n",
       "3517     40357\n",
       "2888     70136\n",
       "2860     45263\n",
       "3346     47903\n",
       "3043     95459\n",
       "1426    100635\n",
       "1208    172717\n",
       "2445     53497\n",
       "3285     47880\n",
       "2876     18123\n",
       "1905    222098\n",
       "1522    129701\n",
       "1226    219601\n",
       "2349     49880\n",
       "1563    246948\n",
       "2652     11774\n",
       "319     162568\n",
       "3029     44086\n",
       "637      62561\n",
       "1586    104071\n",
       "472     141270\n",
       "2763     27595\n",
       "1613    206075\n",
       "1057     35899\n",
       "         ...  \n",
       "15       71102\n",
       "2687     52671\n",
       "75       80794\n",
       "2883     38963\n",
       "2237     58972\n",
       "3038     37746\n",
       "3112     45021\n",
       "3456    104272\n",
       "3150     60588\n",
       "3241     27968\n",
       "3079     21621\n",
       "1317    191352\n",
       "1411    147237\n",
       "2297     33672\n",
       "1309    104699\n",
       "1445     60583\n",
       "3493     37737\n",
       "3060     75182\n",
       "935      86794\n",
       "2814     30056\n",
       "735     196743\n",
       "1630    226091\n",
       "2537    167325\n",
       "2634     49053\n",
       "2082     35238\n",
       "698      53812\n",
       "235     127433\n",
       "667      87717\n",
       "1804    210360\n",
       "315      36266\n",
       "Name: 2016 Deposits, Length: 755, dtype: int64"
      ]
     },
     "execution_count": 195,
     "metadata": {},
     "output_type": "execute_result"
    }
   ],
   "source": [
    "y_test"
   ]
  },
  {
   "cell_type": "code",
   "execution_count": 196,
   "metadata": {},
   "outputs": [
    {
     "name": "stdout",
     "output_type": "stream",
     "text": [
      "MAE: 35341.290700\n"
     ]
    }
   ],
   "source": [
    "from sklearn.metrics import mean_absolute_error\n",
    "rmse = (mean_absolute_error(y_test, preds))\n",
    "print(\"MAE: %f\" % (rmse))"
   ]
  },
  {
   "cell_type": "code",
   "execution_count": 197,
   "metadata": {},
   "outputs": [
    {
     "name": "stdout",
     "output_type": "stream",
     "text": [
      "RMSE: 145517.888801\n"
     ]
    }
   ],
   "source": [
    "from sklearn.metrics import mean_squared_error\n",
    "rmse = np.sqrt(mean_squared_error(y_test, preds))\n",
    "print(\"RMSE: %f\" % (rmse))"
   ]
  },
  {
   "cell_type": "code",
   "execution_count": null,
   "metadata": {},
   "outputs": [],
   "source": []
  }
 ],
 "metadata": {
  "kernelspec": {
   "display_name": "Python 3",
   "language": "python",
   "name": "python3"
  },
  "language_info": {
   "codemirror_mode": {
    "name": "ipython",
    "version": 3
   },
   "file_extension": ".py",
   "mimetype": "text/x-python",
   "name": "python",
   "nbconvert_exporter": "python",
   "pygments_lexer": "ipython3",
   "version": "3.6.5"
  }
 },
 "nbformat": 4,
 "nbformat_minor": 2
}
