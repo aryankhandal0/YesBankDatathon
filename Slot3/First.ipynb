{
 "cells": [
  {
   "cell_type": "code",
   "execution_count": 23,
   "metadata": {},
   "outputs": [],
   "source": [
    "import numpy as np\n",
    "import pandas as pd\n",
    "import matplotlib.pyplot as plt"
   ]
  },
  {
   "cell_type": "code",
   "execution_count": 24,
   "metadata": {},
   "outputs": [],
   "source": [
    "df = pd.read_csv('Yes_Bank_Train.csv')"
   ]
  },
  {
   "cell_type": "code",
   "execution_count": 25,
   "metadata": {},
   "outputs": [
    {
     "data": {
      "text/html": [
       "<div>\n",
       "<style scoped>\n",
       "    .dataframe tbody tr th:only-of-type {\n",
       "        vertical-align: middle;\n",
       "    }\n",
       "\n",
       "    .dataframe tbody tr th {\n",
       "        vertical-align: top;\n",
       "    }\n",
       "\n",
       "    .dataframe thead th {\n",
       "        text-align: right;\n",
       "    }\n",
       "</style>\n",
       "<table border=\"1\" class=\"dataframe\">\n",
       "  <thead>\n",
       "    <tr style=\"text-align: right;\">\n",
       "      <th></th>\n",
       "      <th>serial number</th>\n",
       "      <th>account_info</th>\n",
       "      <th>duration_month</th>\n",
       "      <th>credit_history</th>\n",
       "      <th>purpose</th>\n",
       "      <th>credit_amount</th>\n",
       "      <th>savings_account</th>\n",
       "      <th>employment_st</th>\n",
       "      <th>poi</th>\n",
       "      <th>personal_status</th>\n",
       "      <th>...</th>\n",
       "      <th>resident_since</th>\n",
       "      <th>property_type</th>\n",
       "      <th>age</th>\n",
       "      <th>installment_type</th>\n",
       "      <th>housing_type</th>\n",
       "      <th>credits_no</th>\n",
       "      <th>job_type</th>\n",
       "      <th>liables</th>\n",
       "      <th>telephone</th>\n",
       "      <th>foreigner</th>\n",
       "    </tr>\n",
       "  </thead>\n",
       "  <tbody>\n",
       "    <tr>\n",
       "      <th>0</th>\n",
       "      <td>1</td>\n",
       "      <td>A11</td>\n",
       "      <td>6</td>\n",
       "      <td>A34</td>\n",
       "      <td>A43</td>\n",
       "      <td>1169</td>\n",
       "      <td>A65</td>\n",
       "      <td>A75</td>\n",
       "      <td>4</td>\n",
       "      <td>A93</td>\n",
       "      <td>...</td>\n",
       "      <td>4</td>\n",
       "      <td>A121</td>\n",
       "      <td>67</td>\n",
       "      <td>A143</td>\n",
       "      <td>A152</td>\n",
       "      <td>2</td>\n",
       "      <td>A173</td>\n",
       "      <td>1</td>\n",
       "      <td>A192</td>\n",
       "      <td>A201</td>\n",
       "    </tr>\n",
       "    <tr>\n",
       "      <th>1</th>\n",
       "      <td>2</td>\n",
       "      <td>A12</td>\n",
       "      <td>48</td>\n",
       "      <td>A32</td>\n",
       "      <td>A43</td>\n",
       "      <td>5951</td>\n",
       "      <td>A61</td>\n",
       "      <td>A73</td>\n",
       "      <td>2</td>\n",
       "      <td>A92</td>\n",
       "      <td>...</td>\n",
       "      <td>2</td>\n",
       "      <td>A121</td>\n",
       "      <td>22</td>\n",
       "      <td>A143</td>\n",
       "      <td>A152</td>\n",
       "      <td>1</td>\n",
       "      <td>A173</td>\n",
       "      <td>1</td>\n",
       "      <td>A191</td>\n",
       "      <td>A201</td>\n",
       "    </tr>\n",
       "    <tr>\n",
       "      <th>2</th>\n",
       "      <td>3</td>\n",
       "      <td>A14</td>\n",
       "      <td>12</td>\n",
       "      <td>A34</td>\n",
       "      <td>A46</td>\n",
       "      <td>2096</td>\n",
       "      <td>A61</td>\n",
       "      <td>A74</td>\n",
       "      <td>2</td>\n",
       "      <td>A93</td>\n",
       "      <td>...</td>\n",
       "      <td>3</td>\n",
       "      <td>A121</td>\n",
       "      <td>49</td>\n",
       "      <td>A143</td>\n",
       "      <td>A152</td>\n",
       "      <td>1</td>\n",
       "      <td>A172</td>\n",
       "      <td>2</td>\n",
       "      <td>A191</td>\n",
       "      <td>A201</td>\n",
       "    </tr>\n",
       "    <tr>\n",
       "      <th>3</th>\n",
       "      <td>4</td>\n",
       "      <td>A11</td>\n",
       "      <td>42</td>\n",
       "      <td>A32</td>\n",
       "      <td>A42</td>\n",
       "      <td>7882</td>\n",
       "      <td>A61</td>\n",
       "      <td>A74</td>\n",
       "      <td>2</td>\n",
       "      <td>A93</td>\n",
       "      <td>...</td>\n",
       "      <td>4</td>\n",
       "      <td>A122</td>\n",
       "      <td>45</td>\n",
       "      <td>A143</td>\n",
       "      <td>A153</td>\n",
       "      <td>1</td>\n",
       "      <td>A173</td>\n",
       "      <td>2</td>\n",
       "      <td>A191</td>\n",
       "      <td>A201</td>\n",
       "    </tr>\n",
       "    <tr>\n",
       "      <th>4</th>\n",
       "      <td>5</td>\n",
       "      <td>A11</td>\n",
       "      <td>24</td>\n",
       "      <td>A33</td>\n",
       "      <td>A40</td>\n",
       "      <td>4870</td>\n",
       "      <td>A61</td>\n",
       "      <td>A73</td>\n",
       "      <td>3</td>\n",
       "      <td>A93</td>\n",
       "      <td>...</td>\n",
       "      <td>4</td>\n",
       "      <td>A124</td>\n",
       "      <td>53</td>\n",
       "      <td>A143</td>\n",
       "      <td>A153</td>\n",
       "      <td>2</td>\n",
       "      <td>A173</td>\n",
       "      <td>2</td>\n",
       "      <td>A191</td>\n",
       "      <td>A201</td>\n",
       "    </tr>\n",
       "  </tbody>\n",
       "</table>\n",
       "<p>5 rows × 21 columns</p>\n",
       "</div>"
      ],
      "text/plain": [
       "   serial number account_info  duration_month credit_history purpose  \\\n",
       "0              1          A11               6            A34     A43   \n",
       "1              2          A12              48            A32     A43   \n",
       "2              3          A14              12            A34     A46   \n",
       "3              4          A11              42            A32     A42   \n",
       "4              5          A11              24            A33     A40   \n",
       "\n",
       "   credit_amount savings_account employment_st  poi personal_status    ...     \\\n",
       "0           1169             A65           A75    4             A93    ...      \n",
       "1           5951             A61           A73    2             A92    ...      \n",
       "2           2096             A61           A74    2             A93    ...      \n",
       "3           7882             A61           A74    2             A93    ...      \n",
       "4           4870             A61           A73    3             A93    ...      \n",
       "\n",
       "  resident_since  property_type age  installment_type housing_type credits_no  \\\n",
       "0              4           A121  67              A143         A152          2   \n",
       "1              2           A121  22              A143         A152          1   \n",
       "2              3           A121  49              A143         A152          1   \n",
       "3              4           A122  45              A143         A153          1   \n",
       "4              4           A124  53              A143         A153          2   \n",
       "\n",
       "   job_type liables  telephone foreigner  \n",
       "0      A173       1       A192      A201  \n",
       "1      A173       1       A191      A201  \n",
       "2      A172       2       A191      A201  \n",
       "3      A173       2       A191      A201  \n",
       "4      A173       2       A191      A201  \n",
       "\n",
       "[5 rows x 21 columns]"
      ]
     },
     "execution_count": 25,
     "metadata": {},
     "output_type": "execute_result"
    }
   ],
   "source": [
    "df.head()"
   ]
  },
  {
   "cell_type": "code",
   "execution_count": 26,
   "metadata": {},
   "outputs": [
    {
     "data": {
      "text/html": [
       "<div>\n",
       "<style scoped>\n",
       "    .dataframe tbody tr th:only-of-type {\n",
       "        vertical-align: middle;\n",
       "    }\n",
       "\n",
       "    .dataframe tbody tr th {\n",
       "        vertical-align: top;\n",
       "    }\n",
       "\n",
       "    .dataframe thead th {\n",
       "        text-align: right;\n",
       "    }\n",
       "</style>\n",
       "<table border=\"1\" class=\"dataframe\">\n",
       "  <thead>\n",
       "    <tr style=\"text-align: right;\">\n",
       "      <th></th>\n",
       "      <th>serial number</th>\n",
       "      <th>duration_month</th>\n",
       "      <th>credit_amount</th>\n",
       "      <th>poi</th>\n",
       "      <th>resident_since</th>\n",
       "      <th>age</th>\n",
       "      <th>credits_no</th>\n",
       "      <th>liables</th>\n",
       "    </tr>\n",
       "  </thead>\n",
       "  <tbody>\n",
       "    <tr>\n",
       "      <th>count</th>\n",
       "      <td>800.0000</td>\n",
       "      <td>800.00000</td>\n",
       "      <td>800.000000</td>\n",
       "      <td>800.000000</td>\n",
       "      <td>800.000000</td>\n",
       "      <td>800.000000</td>\n",
       "      <td>800.000000</td>\n",
       "      <td>800.000000</td>\n",
       "    </tr>\n",
       "    <tr>\n",
       "      <th>mean</th>\n",
       "      <td>400.5000</td>\n",
       "      <td>20.65125</td>\n",
       "      <td>3190.976250</td>\n",
       "      <td>2.966250</td>\n",
       "      <td>2.841250</td>\n",
       "      <td>35.406250</td>\n",
       "      <td>1.396250</td>\n",
       "      <td>1.147500</td>\n",
       "    </tr>\n",
       "    <tr>\n",
       "      <th>std</th>\n",
       "      <td>231.0844</td>\n",
       "      <td>12.15635</td>\n",
       "      <td>2732.671789</td>\n",
       "      <td>1.128806</td>\n",
       "      <td>1.106833</td>\n",
       "      <td>11.470317</td>\n",
       "      <td>0.569773</td>\n",
       "      <td>0.354825</td>\n",
       "    </tr>\n",
       "    <tr>\n",
       "      <th>min</th>\n",
       "      <td>1.0000</td>\n",
       "      <td>4.00000</td>\n",
       "      <td>250.000000</td>\n",
       "      <td>1.000000</td>\n",
       "      <td>1.000000</td>\n",
       "      <td>19.000000</td>\n",
       "      <td>1.000000</td>\n",
       "      <td>1.000000</td>\n",
       "    </tr>\n",
       "    <tr>\n",
       "      <th>25%</th>\n",
       "      <td>200.7500</td>\n",
       "      <td>12.00000</td>\n",
       "      <td>1342.250000</td>\n",
       "      <td>2.000000</td>\n",
       "      <td>2.000000</td>\n",
       "      <td>27.000000</td>\n",
       "      <td>1.000000</td>\n",
       "      <td>1.000000</td>\n",
       "    </tr>\n",
       "    <tr>\n",
       "      <th>50%</th>\n",
       "      <td>400.5000</td>\n",
       "      <td>18.00000</td>\n",
       "      <td>2281.500000</td>\n",
       "      <td>3.000000</td>\n",
       "      <td>3.000000</td>\n",
       "      <td>33.000000</td>\n",
       "      <td>1.000000</td>\n",
       "      <td>1.000000</td>\n",
       "    </tr>\n",
       "    <tr>\n",
       "      <th>75%</th>\n",
       "      <td>600.2500</td>\n",
       "      <td>24.00000</td>\n",
       "      <td>3914.250000</td>\n",
       "      <td>4.000000</td>\n",
       "      <td>4.000000</td>\n",
       "      <td>41.000000</td>\n",
       "      <td>2.000000</td>\n",
       "      <td>1.000000</td>\n",
       "    </tr>\n",
       "    <tr>\n",
       "      <th>max</th>\n",
       "      <td>800.0000</td>\n",
       "      <td>72.00000</td>\n",
       "      <td>15945.000000</td>\n",
       "      <td>4.000000</td>\n",
       "      <td>4.000000</td>\n",
       "      <td>75.000000</td>\n",
       "      <td>4.000000</td>\n",
       "      <td>2.000000</td>\n",
       "    </tr>\n",
       "  </tbody>\n",
       "</table>\n",
       "</div>"
      ],
      "text/plain": [
       "       serial number  duration_month  credit_amount         poi  \\\n",
       "count       800.0000       800.00000     800.000000  800.000000   \n",
       "mean        400.5000        20.65125    3190.976250    2.966250   \n",
       "std         231.0844        12.15635    2732.671789    1.128806   \n",
       "min           1.0000         4.00000     250.000000    1.000000   \n",
       "25%         200.7500        12.00000    1342.250000    2.000000   \n",
       "50%         400.5000        18.00000    2281.500000    3.000000   \n",
       "75%         600.2500        24.00000    3914.250000    4.000000   \n",
       "max         800.0000        72.00000   15945.000000    4.000000   \n",
       "\n",
       "       resident_since         age  credits_no     liables  \n",
       "count      800.000000  800.000000  800.000000  800.000000  \n",
       "mean         2.841250   35.406250    1.396250    1.147500  \n",
       "std          1.106833   11.470317    0.569773    0.354825  \n",
       "min          1.000000   19.000000    1.000000    1.000000  \n",
       "25%          2.000000   27.000000    1.000000    1.000000  \n",
       "50%          3.000000   33.000000    1.000000    1.000000  \n",
       "75%          4.000000   41.000000    2.000000    1.000000  \n",
       "max          4.000000   75.000000    4.000000    2.000000  "
      ]
     },
     "execution_count": 26,
     "metadata": {},
     "output_type": "execute_result"
    }
   ],
   "source": [
    "df.describe()"
   ]
  },
  {
   "cell_type": "code",
   "execution_count": 27,
   "metadata": {
    "scrolled": true
   },
   "outputs": [
    {
     "name": "stdout",
     "output_type": "stream",
     "text": [
      "<class 'pandas.core.frame.DataFrame'>\n",
      "RangeIndex: 800 entries, 0 to 799\n",
      "Data columns (total 21 columns):\n",
      "serial number       800 non-null int64\n",
      "account_info        800 non-null object\n",
      "duration_month      800 non-null int64\n",
      "credit_history      800 non-null object\n",
      "purpose             800 non-null object\n",
      "credit_amount       800 non-null int64\n",
      "savings_account     800 non-null object\n",
      "employment_st       800 non-null object\n",
      "poi                 800 non-null int64\n",
      "personal_status     800 non-null object\n",
      "gurantors           800 non-null object\n",
      "resident_since      800 non-null int64\n",
      "property_type       800 non-null object\n",
      "age                 800 non-null int64\n",
      "installment_type    800 non-null object\n",
      "housing_type        800 non-null object\n",
      "credits_no          800 non-null int64\n",
      "job_type            800 non-null object\n",
      "liables             800 non-null int64\n",
      "telephone           800 non-null object\n",
      "foreigner           800 non-null object\n",
      "dtypes: int64(8), object(13)\n",
      "memory usage: 131.3+ KB\n"
     ]
    }
   ],
   "source": [
    "df.info()"
   ]
  },
  {
   "cell_type": "code",
   "execution_count": 28,
   "metadata": {},
   "outputs": [
    {
     "data": {
      "text/plain": [
       "<matplotlib.axes._subplots.AxesSubplot at 0x7f0867874e48>"
      ]
     },
     "execution_count": 28,
     "metadata": {},
     "output_type": "execute_result"
    },
    {
     "data": {
      "image/png": "[encoded data removed]",
      "text/plain": [
       "<Figure size 432x288 with 1 Axes>"
      ]
     },
     "metadata": {},
     "output_type": "display_data"
    }
   ],
   "source": [
    "df.plot(x='duration_month',y='credit_amount')"
   ]
  },
  {
   "cell_type": "code",
   "execution_count": 29,
   "metadata": {},
   "outputs": [],
   "source": [
    "df =df.drop(['serial number'],axis=1)"
   ]
  },
  {
   "cell_type": "code",
   "execution_count": 30,
   "metadata": {},
   "outputs": [],
   "source": [
    "X = df.drop(['credit_amount'],axis=1)"
   ]
  },
  {
   "cell_type": "code",
   "execution_count": 31,
   "metadata": {},
   "outputs": [],
   "source": [
    "y = df['credit_amount']"
   ]
  },
  {
   "cell_type": "code",
   "execution_count": 32,
   "metadata": {},
   "outputs": [],
   "source": [
    "obj_col=X.select_dtypes(include='object')"
   ]
  },
  {
   "cell_type": "code",
   "execution_count": 33,
   "metadata": {},
   "outputs": [],
   "source": [
    "obj_col = obj_col.columns.values\n",
    "X = pd.get_dummies(X, columns=obj_col)"
   ]
  },
  {
   "cell_type": "code",
   "execution_count": 34,
   "metadata": {},
   "outputs": [
    {
     "name": "stdout",
     "output_type": "stream",
     "text": [
      "<class 'pandas.core.frame.DataFrame'>\n",
      "RangeIndex: 800 entries, 0 to 799\n",
      "Data columns (total 60 columns):\n",
      "duration_month           800 non-null int64\n",
      "poi                      800 non-null int64\n",
      "resident_since           800 non-null int64\n",
      "age                      800 non-null int64\n",
      "credits_no               800 non-null int64\n",
      "liables                  800 non-null int64\n",
      "account_info_A11         800 non-null uint8\n",
      "account_info_A12         800 non-null uint8\n",
      "account_info_A13         800 non-null uint8\n",
      "account_info_A14         800 non-null uint8\n",
      "credit_history_A30       800 non-null uint8\n",
      "credit_history_A31       800 non-null uint8\n",
      "credit_history_A32       800 non-null uint8\n",
      "credit_history_A33       800 non-null uint8\n",
      "credit_history_A34       800 non-null uint8\n",
      "purpose_A40              800 non-null uint8\n",
      "purpose_A41              800 non-null uint8\n",
      "purpose_A410             800 non-null uint8\n",
      "purpose_A42              800 non-null uint8\n",
      "purpose_A43              800 non-null uint8\n",
      "purpose_A44              800 non-null uint8\n",
      "purpose_A45              800 non-null uint8\n",
      "purpose_A46              800 non-null uint8\n",
      "purpose_A48              800 non-null uint8\n",
      "purpose_A49              800 non-null uint8\n",
      "savings_account_A61      800 non-null uint8\n",
      "savings_account_A62      800 non-null uint8\n",
      "savings_account_A63      800 non-null uint8\n",
      "savings_account_A64      800 non-null uint8\n",
      "savings_account_A65      800 non-null uint8\n",
      "employment_st_A71        800 non-null uint8\n",
      "employment_st_A72        800 non-null uint8\n",
      "employment_st_A73        800 non-null uint8\n",
      "employment_st_A74        800 non-null uint8\n",
      "employment_st_A75        800 non-null uint8\n",
      "personal_status_A91      800 non-null uint8\n",
      "personal_status_A92      800 non-null uint8\n",
      "personal_status_A93      800 non-null uint8\n",
      "personal_status_A94      800 non-null uint8\n",
      "gurantors_A101           800 non-null uint8\n",
      "gurantors_A102           800 non-null uint8\n",
      "gurantors_A103           800 non-null uint8\n",
      "property_type_A121       800 non-null uint8\n",
      "property_type_A122       800 non-null uint8\n",
      "property_type_A123       800 non-null uint8\n",
      "property_type_A124       800 non-null uint8\n",
      "installment_type_A141    800 non-null uint8\n",
      "installment_type_A142    800 non-null uint8\n",
      "installment_type_A143    800 non-null uint8\n",
      "housing_type_A151        800 non-null uint8\n",
      "housing_type_A152        800 non-null uint8\n",
      "housing_type_A153        800 non-null uint8\n",
      "job_type_A171            800 non-null uint8\n",
      "job_type_A172            800 non-null uint8\n",
      "job_type_A173            800 non-null uint8\n",
      "job_type_A174            800 non-null uint8\n",
      "telephone_A191           800 non-null uint8\n",
      "telephone_A192           800 non-null uint8\n",
      "foreigner_A201           800 non-null uint8\n",
      "foreigner_A202           800 non-null uint8\n",
      "dtypes: int64(6), uint8(54)\n",
      "memory usage: 79.8 KB\n"
     ]
    }
   ],
   "source": [
    "X.info()"
   ]
  },
  {
   "cell_type": "code",
   "execution_count": 35,
   "metadata": {},
   "outputs": [],
   "source": [
    "import xgboost as xgb\n",
    "from sklearn.model_selection import train_test_split"
   ]
  },
  {
   "cell_type": "code",
   "execution_count": 36,
   "metadata": {},
   "outputs": [],
   "source": [
    "X_train, X_test, y_train, y_test = train_test_split(X, y, test_size=0.2, random_state=123)\n",
    "xg_reg = xgb.XGBRegressor(objective ='reg:linear',colsample_bytree=1,\n",
    " learning_rate= 0.019,\n",
    " max_depth= 5,n_estimators=500,subsample=0.8)"
   ]
  },
  {
   "cell_type": "code",
   "execution_count": 37,
   "metadata": {},
   "outputs": [],
   "source": [
    "xg_reg.fit(X_train,y_train)\n",
    "preds = xg_reg.predict(X_test)"
   ]
  },
  {
   "cell_type": "code",
   "execution_count": 38,
   "metadata": {},
   "outputs": [
    {
     "name": "stdout",
     "output_type": "stream",
     "text": [
      "RMSE: 2362.623974\n"
     ]
    }
   ],
   "source": [
    "from sklearn.metrics import mean_squared_error\n",
    "rmse = np.sqrt(mean_squared_error(y_test, preds))\n",
    "print(\"RMSE: %f\" % (rmse))"
   ]
  },
  {
   "cell_type": "code",
   "execution_count": 39,
   "metadata": {},
   "outputs": [],
   "source": [
    "from sklearn.model_selection import GridSearchCV"
   ]
  },
  {
   "cell_type": "code",
   "execution_count": null,
   "metadata": {
    "scrolled": true
   },
   "outputs": [],
   "source": [
    "params={\n",
    "    'n_estimators':[1000],\n",
    "    'max_depth':np.arange(2,11,1),\n",
    "    'learning_rate':[0.01,0.1,0.05],\n",
    "    'colsample_bytree':np.arange(0.1,1.1,0.1),\n",
    "    'subsample':np.arange(0.5,1.0,0.1)\n",
    "}\n",
    "xg_reg = xgb.XGBRegressor(objective ='reg:linear',eval_metric='rmse')\n",
    "gridser = GridSearchCV(xg_reg,params)\n",
    "gridser.fit(X,y)"
   ]
  },
  {
   "cell_type": "code",
   "execution_count": null,
   "metadata": {},
   "outputs": [],
   "source": [
    "gridser.best_params_"
   ]
  },
  {
   "cell_type": "code",
   "execution_count": null,
   "metadata": {},
   "outputs": [],
   "source": [
    "gridser.best_score_"
   ]
  },
  {
   "cell_type": "code",
   "execution_count": 40,
   "metadata": {},
   "outputs": [],
   "source": [
    "df2 = pd.read_csv('Yes_Bank_Test_int.csv')"
   ]
  },
  {
   "cell_type": "code",
   "execution_count": 41,
   "metadata": {},
   "outputs": [],
   "source": [
    "df2 =df2.drop(['serial number'],axis=1)\n",
    "X_t = df2\n",
    "obj_col=X_t.select_dtypes(include='object')\n",
    "obj_col = obj_col.columns.values\n",
    "X_t = pd.get_dummies(X_t, columns=obj_col)"
   ]
  },
  {
   "cell_type": "code",
   "execution_count": 42,
   "metadata": {},
   "outputs": [
    {
     "name": "stdout",
     "output_type": "stream",
     "text": [
      "<class 'pandas.core.frame.DataFrame'>\n",
      "RangeIndex: 200 entries, 0 to 199\n",
      "Data columns (total 60 columns):\n",
      "duration_month           200 non-null int64\n",
      "poi                      200 non-null int64\n",
      "resident_since           200 non-null int64\n",
      "age                      200 non-null int64\n",
      "credits_no               200 non-null int64\n",
      "liables                  200 non-null int64\n",
      "account_info_A11         200 non-null uint8\n",
      "account_info_A12         200 non-null uint8\n",
      "account_info_A13         200 non-null uint8\n",
      "account_info_A14         200 non-null uint8\n",
      "credit_history_A30       200 non-null uint8\n",
      "credit_history_A31       200 non-null uint8\n",
      "credit_history_A32       200 non-null uint8\n",
      "credit_history_A33       200 non-null uint8\n",
      "credit_history_A34       200 non-null uint8\n",
      "purpose_A40              200 non-null uint8\n",
      "purpose_A41              200 non-null uint8\n",
      "purpose_A410             200 non-null uint8\n",
      "purpose_A42              200 non-null uint8\n",
      "purpose_A43              200 non-null uint8\n",
      "purpose_A44              200 non-null uint8\n",
      "purpose_A45              200 non-null uint8\n",
      "purpose_A46              200 non-null uint8\n",
      "purpose_A48              200 non-null uint8\n",
      "purpose_A49              200 non-null uint8\n",
      "savings_account_A61      200 non-null uint8\n",
      "savings_account_A62      200 non-null uint8\n",
      "savings_account_A63      200 non-null uint8\n",
      "savings_account_A64      200 non-null uint8\n",
      "savings_account_A65      200 non-null uint8\n",
      "employment_st_A71        200 non-null uint8\n",
      "employment_st_A72        200 non-null uint8\n",
      "employment_st_A73        200 non-null uint8\n",
      "employment_st_A74        200 non-null uint8\n",
      "employment_st_A75        200 non-null uint8\n",
      "personal_status_A91      200 non-null uint8\n",
      "personal_status_A92      200 non-null uint8\n",
      "personal_status_A93      200 non-null uint8\n",
      "personal_status_A94      200 non-null uint8\n",
      "gurantors_A101           200 non-null uint8\n",
      "gurantors_A102           200 non-null uint8\n",
      "gurantors_A103           200 non-null uint8\n",
      "property_type_A121       200 non-null uint8\n",
      "property_type_A122       200 non-null uint8\n",
      "property_type_A123       200 non-null uint8\n",
      "property_type_A124       200 non-null uint8\n",
      "installment_type_A141    200 non-null uint8\n",
      "installment_type_A142    200 non-null uint8\n",
      "installment_type_A143    200 non-null uint8\n",
      "housing_type_A151        200 non-null uint8\n",
      "housing_type_A152        200 non-null uint8\n",
      "housing_type_A153        200 non-null uint8\n",
      "job_type_A171            200 non-null uint8\n",
      "job_type_A172            200 non-null uint8\n",
      "job_type_A173            200 non-null uint8\n",
      "job_type_A174            200 non-null uint8\n",
      "telephone_A191           200 non-null uint8\n",
      "telephone_A192           200 non-null uint8\n",
      "foreigner_A201           200 non-null uint8\n",
      "foreigner_A202           200 non-null uint8\n",
      "dtypes: int64(6), uint8(54)\n",
      "memory usage: 20.0 KB\n"
     ]
    }
   ],
   "source": [
    "X_t.info()"
   ]
  },
  {
   "cell_type": "code",
   "execution_count": 43,
   "metadata": {},
   "outputs": [],
   "source": [
    "finalpred = xg_reg.predict(X_t)"
   ]
  },
  {
   "cell_type": "code",
   "execution_count": 44,
   "metadata": {},
   "outputs": [],
   "source": [
    "_ = pd.read_csv('Yes_Bank_Test_int.csv')"
   ]
  },
  {
   "cell_type": "code",
   "execution_count": 45,
   "metadata": {},
   "outputs": [
    {
     "data": {
      "text/html": [
       "<div>\n",
       "<style scoped>\n",
       "    .dataframe tbody tr th:only-of-type {\n",
       "        vertical-align: middle;\n",
       "    }\n",
       "\n",
       "    .dataframe tbody tr th {\n",
       "        vertical-align: top;\n",
       "    }\n",
       "\n",
       "    .dataframe thead th {\n",
       "        text-align: right;\n",
       "    }\n",
       "</style>\n",
       "<table border=\"1\" class=\"dataframe\">\n",
       "  <thead>\n",
       "    <tr style=\"text-align: right;\">\n",
       "      <th></th>\n",
       "      <th>serial number</th>\n",
       "      <th>credit_amount</th>\n",
       "    </tr>\n",
       "  </thead>\n",
       "  <tbody>\n",
       "    <tr>\n",
       "      <th>0</th>\n",
       "      <td>1</td>\n",
       "      <td>2062.784180</td>\n",
       "    </tr>\n",
       "    <tr>\n",
       "      <th>1</th>\n",
       "      <td>2</td>\n",
       "      <td>2373.718994</td>\n",
       "    </tr>\n",
       "    <tr>\n",
       "      <th>2</th>\n",
       "      <td>3</td>\n",
       "      <td>3509.539551</td>\n",
       "    </tr>\n",
       "    <tr>\n",
       "      <th>3</th>\n",
       "      <td>4</td>\n",
       "      <td>1478.231934</td>\n",
       "    </tr>\n",
       "    <tr>\n",
       "      <th>4</th>\n",
       "      <td>5</td>\n",
       "      <td>1763.116089</td>\n",
       "    </tr>\n",
       "  </tbody>\n",
       "</table>\n",
       "</div>"
      ],
      "text/plain": [
       "   serial number  credit_amount\n",
       "0              1    2062.784180\n",
       "1              2    2373.718994\n",
       "2              3    3509.539551\n",
       "3              4    1478.231934\n",
       "4              5    1763.116089"
      ]
     },
     "execution_count": 45,
     "metadata": {},
     "output_type": "execute_result"
    }
   ],
   "source": [
    "serial = _['serial number']\n",
    "data = { 'serial number': serial, 'credit_amount': finalpred}\n",
    "submission = pd.DataFrame(data)\n",
    "submission.head()"
   ]
  },
  {
   "cell_type": "code",
   "execution_count": null,
   "metadata": {},
   "outputs": [],
   "source": [
    "submission.to_csv('xgb5.csv',index=False)"
   ]
  }
 ],
 "metadata": {
  "kernelspec": {
   "display_name": "Python 3",
   "language": "python",
   "name": "python3"
  },
  "language_info": {
   "codemirror_mode": {
    "name": "ipython",
    "version": 3
   },
   "file_extension": ".py",
   "mimetype": "text/x-python",
   "name": "python",
   "nbconvert_exporter": "python",
   "pygments_lexer": "ipython3",
   "version": "3.6.5"
  }
 },
 "nbformat": 4,
 "nbformat_minor": 2
}
